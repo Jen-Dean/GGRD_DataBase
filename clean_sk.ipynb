{
 "cells": [
  {
   "cell_type": "code",
   "execution_count": 1,
   "metadata": {},
   "outputs": [],
   "source": [
    "import pandas as pd\n",
    "import openpyxl"
   ]
  },
  {
   "cell_type": "code",
   "execution_count": 2,
   "metadata": {},
   "outputs": [
    {
     "name": "stderr",
     "output_type": "stream",
     "text": [
      "/Users/jenniferdean/opt/anaconda3/lib/python3.8/site-packages/openpyxl/worksheet/_reader.py:300: UserWarning: Unknown extension is not supported and will be removed\n",
      "  warn(msg)\n"
     ]
    }
   ],
   "source": [
    "#Pulling the Excel File & Sheet\n",
    "path = \"../STATS/all_stars_2018/test.xlsx\"\n",
    "stats_df = pd.read_excel(path, sheet_name=\"SK\", engine=\"openpyxl\")\n",
    "\n",
    "#Formatting the sheet\n",
    "stats_df = stats_df.dropna(axis=1, how=\"all\")\n",
    "stats_df = stats_df.dropna(axis=\"index\", how=\"all\").reset_index()\n",
    "stats_df = stats_df = stats_df.rename(columns=stats_df.iloc[0]).drop(stats_df.index[0])\n",
    "stats_df = stats_df.drop([0], axis = 1)\n",
    "stats_df.columns = [\"jam_number\",\n",
    "                    \"not_needed\",\n",
    "                    \"home_jammer_number\",\n",
    "                    \"home_points_scored\",\n",
    "                    \"not_needed\",\n",
    "                    \"home_differential\",\n",
    "                    \"home_lost_lead\",\n",
    "                    \"home_gained_lead\",\n",
    "                    \"not_needed\",\n",
    "                    \"home_called_off_jam\",\n",
    "                    \"not_needed\",\n",
    "                    \"not_needed\",\n",
    "                    \"not_needed\",\n",
    "                    \"not_needed\",\n",
    "                    \"not_needed\",\n",
    "                    \"not_needed\",\n",
    "                    \"not_needed\",\n",
    "                    \"away_jammer_number\",\n",
    "                    \"away_points_scored\",\n",
    "                    \"not_needed\",\n",
    "                    \"away_differential\",\n",
    "                    \"away_lost_lead\",\n",
    "                    \"away_gained_lead\",\n",
    "                    \"not_needed\",\n",
    "                    \"away_called_off_jam\",\n",
    "                    \"not_needed\",\n",
    "                    \"not_needed\",\n",
    "                    \"not_needed\",\n",
    "                    \"not_needed\",\n",
    "                    \"not_needed\"]\n",
    "stats_df  = stats_df.drop([\"not_needed\"], axis = 1)\n",
    "stats_df = stats_df.fillna(\"0\")\n",
    "stats_df = stats_df.reset_index(drop=True)\n",
    "\n",
    "#Splitting Period one and two into separate dataframes\n",
    "period_one_stats_df = stats_df[:38]\n",
    "period_two_stats_df = stats_df[42:80].reset_index(drop=True)"
   ]
  },
  {
   "cell_type": "code",
   "execution_count": null,
   "metadata": {},
   "outputs": [],
   "source": []
  }
 ],
 "metadata": {
  "kernelspec": {
   "display_name": "Python 3",
   "language": "python",
   "name": "python3"
  },
  "language_info": {
   "codemirror_mode": {
    "name": "ipython",
    "version": 3
   },
   "file_extension": ".py",
   "mimetype": "text/x-python",
   "name": "python",
   "nbconvert_exporter": "python",
   "pygments_lexer": "ipython3",
   "version": "3.8.5"
  },
  "toc": {
   "base_numbering": 1,
   "nav_menu": {},
   "number_sections": true,
   "sideBar": true,
   "skip_h1_title": false,
   "title_cell": "Table of Contents",
   "title_sidebar": "Contents",
   "toc_cell": false,
   "toc_position": {},
   "toc_section_display": true,
   "toc_window_display": false
  },
  "varInspector": {
   "cols": {
    "lenName": 16,
    "lenType": 16,
    "lenVar": 40
   },
   "kernels_config": {
    "python": {
     "delete_cmd_postfix": "",
     "delete_cmd_prefix": "del ",
     "library": "var_list.py",
     "varRefreshCmd": "print(var_dic_list())"
    },
    "r": {
     "delete_cmd_postfix": ") ",
     "delete_cmd_prefix": "rm(",
     "library": "var_list.r",
     "varRefreshCmd": "cat(var_dic_list()) "
    }
   },
   "types_to_exclude": [
    "module",
    "function",
    "builtin_function_or_method",
    "instance",
    "_Feature"
   ],
   "window_display": false
  }
 },
 "nbformat": 4,
 "nbformat_minor": 4
}
