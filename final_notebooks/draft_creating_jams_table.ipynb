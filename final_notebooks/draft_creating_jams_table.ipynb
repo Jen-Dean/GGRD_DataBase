{
 "cells": [
  {
   "cell_type": "code",
   "execution_count": 18,
   "metadata": {},
   "outputs": [],
   "source": [
    "import pandas as pd\n",
    "import openpyxl"
   ]
  },
  {
   "cell_type": "code",
   "execution_count": 35,
   "metadata": {},
   "outputs": [],
   "source": [
    "def clean_lineups(path):\n",
    "    \n",
    "    stats_df = pd.read_excel(path, sheet_name=\"Lineups\", engine=\"openpyxl\")\n",
    "    stats_df = stats_df.fillna(0)\n",
    "    stats_df = stats_df.drop([0], axis = \"index\")\n",
    "    stats_df = stats_df.reset_index()\n",
    "    stats_df = stats_df.rename(columns=stats_df.iloc[0]).drop(stats_df.index[0])\n",
    "    stats_df = stats_df.drop([1, \"noPivot\", \"Box\", 0.0, 0, \"Team Roster\"], axis = 1)\n",
    "    stats_df.columns = [\"jam_number\",\n",
    "                        \"home_jammer_number\",\n",
    "                        \"home_pivot_number\",\n",
    "                        \"home_blocker_1_number\",\n",
    "                        \"home_blocker_2_number\",\n",
    "                        \"home_blocker_3_number\",\n",
    "                        \"redundant\",\n",
    "                        \"away_jammer_number\",\n",
    "                        \"away_pivot_number\",\n",
    "                        \"away_blocker_1_number\",\n",
    "                        \"away_blocker_2_number\",\n",
    "                        \"away_blocker_3_number\"]\n",
    "    stats_df = stats_df.drop([\"redundant\"], axis = 1)\n",
    "    #Splitting Period one and two into separate dataframes\n",
    "    period_one_lineups_df = stats_df[0:38]\n",
    "    period_one_lineups_df[\"period\"] = 1\n",
    "    period_two_lineups_df = stats_df[42:80]\n",
    "    period_two_lineups_df[\"period\"] = 2\n",
    "    frames = [period_one_lineups_df, period_two_lineups_df]\n",
    "    result_df = pd.concat(frames).reset_index(drop=True)\n",
    "    \n",
    "    return result_df"
   ]
  }
 ],
 "metadata": {
  "kernelspec": {
   "display_name": "Python 3",
   "language": "python",
   "name": "python3"
  },
  "language_info": {
   "codemirror_mode": {
    "name": "ipython",
    "version": 3
   },
   "file_extension": ".py",
   "mimetype": "text/x-python",
   "name": "python",
   "nbconvert_exporter": "python",
   "pygments_lexer": "ipython3",
   "version": "3.8.5"
  },
  "toc": {
   "base_numbering": 1,
   "nav_menu": {},
   "number_sections": true,
   "sideBar": true,
   "skip_h1_title": false,
   "title_cell": "Table of Contents",
   "title_sidebar": "Contents",
   "toc_cell": false,
   "toc_position": {},
   "toc_section_display": true,
   "toc_window_display": false
  },
  "varInspector": {
   "cols": {
    "lenName": 16,
    "lenType": 16,
    "lenVar": 40
   },
   "kernels_config": {
    "python": {
     "delete_cmd_postfix": "",
     "delete_cmd_prefix": "del ",
     "library": "var_list.py",
     "varRefreshCmd": "print(var_dic_list())"
    },
    "r": {
     "delete_cmd_postfix": ") ",
     "delete_cmd_prefix": "rm(",
     "library": "var_list.r",
     "varRefreshCmd": "cat(var_dic_list()) "
    }
   },
   "types_to_exclude": [
    "module",
    "function",
    "builtin_function_or_method",
    "instance",
    "_Feature"
   ],
   "window_display": false
  }
 },
 "nbformat": 4,
 "nbformat_minor": 4
}
