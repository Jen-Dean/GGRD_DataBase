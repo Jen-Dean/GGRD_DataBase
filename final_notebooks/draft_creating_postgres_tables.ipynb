{
 "cells": [
  {
   "cell_type": "code",
   "execution_count": 15,
   "metadata": {
    "ExecuteTime": {
     "end_time": "2020-12-20T22:50:25.371251Z",
     "start_time": "2020-12-20T22:50:24.643554Z"
    }
   },
   "outputs": [],
   "source": [
    "import pandas as pd\n",
    "import openpyxl\n",
    "import time\n",
    "import datetime\n",
    "from sqlalchemy import create_engine"
   ]
  },
  {
   "cell_type": "code",
   "execution_count": 16,
   "metadata": {
    "ExecuteTime": {
     "end_time": "2020-12-20T22:53:34.830010Z",
     "start_time": "2020-12-20T22:53:34.821963Z"
    }
   },
   "outputs": [],
   "source": [
    "def clean_igrf(path):\n",
    "    \"\"\"Returns dictionary of game information given stats workbook\n",
    "    \n",
    "        Parameters:\n",
    "            path (str): the path of the xlsx spreadsheet\n",
    "            \n",
    "        Returns:\n",
    "            data_dict (dict): a dictionary with the following key-values:\n",
    "                timestamp (timestamp): the time and date that the game occured\n",
    "                home_league (str): name of home league\n",
    "                away_league (str): name of away league\n",
    "                home_team (str): name of home team\n",
    "                away_team (str): name of away team\n",
    "                home_pts (int): points home team scored\n",
    "                away_pts (int): points away team scored\n",
    "                home_roster (list): list of dictionaries with the following\n",
    "                    key-value pairs for home team skaters:\n",
    "                    skater_no (int): skater's number\n",
    "                    skater_name (str): name of skater\n",
    "                away_roster (list): list of dictionaries with the following\n",
    "                    key-value pairs for away team skaters:\n",
    "                    skater_no (int): skater's number\n",
    "                    skater_name (str): name of skater\n",
    "    \"\"\"\n",
    "    \n",
    "    igrf_df = pd.read_excel(path, sheet_name=\"IGRF\", engine=\"openpyxl\")\n",
    "    game_date = igrf_df.iloc[5, 1]\n",
    "    start_time = igrf_df.iloc[5, 8]\n",
    "    home_league = igrf_df.iloc[8,1]\n",
    "    away_league = igrf_df.iloc[8,8]\n",
    "    home_team = igrf_df.iloc[9,1]\n",
    "    away_team = igrf_df.iloc[9,8]\n",
    "    home_pts = igrf_df.iloc[36, 2]\n",
    "    away_pts = igrf_df.iloc[36, 9]\n",
    "    home_roster = clean_roster(igrf_df.iloc[12:31,1:3])\n",
    "    away_roster = clean_roster(igrf_df.iloc[12:31,8:10])\n",
    "    \n",
    "    datetime_object = datetime.datetime.combine(game_date, start_time)\n",
    "    timestamp = datetime.datetime.timestamp(datetime_object)\n",
    "\n",
    "    data_dict = {}\n",
    "\n",
    "    data_dict = {\"timestamp\": timestamp,\n",
    "                 \"home_league\": home_league,\n",
    "                 \"away_league\": away_league,\n",
    "                 \"home_team\": home_team,\n",
    "                 \"away_team\": away_team,\n",
    "                 \"home_pts\": home_pts,\n",
    "                 \"away_pts\": away_pts,\n",
    "                 \"home_roster\": home_roster,\n",
    "                 \"away_roster\": away_roster\n",
    "                }\n",
    "    \n",
    "    return data_dict"
   ]
  },
  {
   "cell_type": "code",
   "execution_count": 17,
   "metadata": {
    "ExecuteTime": {
     "end_time": "2020-12-20T22:53:36.491084Z",
     "start_time": "2020-12-20T22:53:36.486506Z"
    }
   },
   "outputs": [],
   "source": [
    "def clean_roster(df):\n",
    "    \n",
    "    \"\"\"Given dataframe of player numbers and names\n",
    "        Returns a roster as a list of dictionaries\"\"\"\n",
    "    \n",
    "    df.dropna(axis=0, how=\"any\", inplace=True)\n",
    "    df.columns = [\"skater_no\", \"skater_name\"]\n",
    "    roster = df.to_dict('records')\n",
    "    return roster"
   ]
  },
  {
   "cell_type": "code",
   "execution_count": 19,
   "metadata": {},
   "outputs": [
    {
     "name": "stderr",
     "output_type": "stream",
     "text": [
      "/Users/jenniferdean/opt/anaconda3/lib/python3.8/site-packages/openpyxl/worksheet/_reader.py:300: UserWarning: Unknown extension is not supported and will be removed\n",
      "  warn(msg)\n"
     ]
    },
    {
     "data": {
      "text/plain": [
       "{'timestamp': 1526164200.0,\n",
       " 'home_league': 'Gotham Girls Roller Derby',\n",
       " 'away_league': 'Jacksonville Roller Derby',\n",
       " 'home_team': 'All-Stars',\n",
       " 'away_team': 'New Jax City Rollers',\n",
       " 'home_pts': 225,\n",
       " 'away_pts': 113,\n",
       " 'home_roster': [{'skater_no': '010', 'skater_name': 'Giles'},\n",
       "  {'skater_no': '1680', 'skater_name': 'D.A.R.Y.L.'},\n",
       "  {'skater_no': '17', 'skater_name': 'Fast and Luce'},\n",
       "  {'skater_no': '1706', 'skater_name': 'Miss Tea Maven'},\n",
       "  {'skater_no': '1978', 'skater_name': 'Space Invader'},\n",
       "  {'skater_no': '213', 'skater_name': 'Spork Chop'},\n",
       "  {'skater_no': '23', 'skater_name': 'Livvie Smalls'},\n",
       "  {'skater_no': '314', 'skater_name': 'Caf Fiend'},\n",
       "  {'skater_no': '32', 'skater_name': 'Cork Rebel'},\n",
       "  {'skater_no': '4', 'skater_name': 'Violet Knockout'},\n",
       "  {'skater_no': '41', 'skater_name': 'Roxy Dallas'},\n",
       "  {'skater_no': '4500', 'skater_name': 'Bonita Apple Bomb'},\n",
       "  {'skater_no': '56', 'skater_name': 'Kate Sera Sera'},\n",
       "  {'skater_no': '68', 'skater_name': 'Sarah McKemie'}],\n",
       " 'away_roster': [{'skater_no': '077', 'skater_name': 'Mad Dog Murph'},\n",
       "  {'skater_no': '111', 'skater_name': 'Jamsterella'},\n",
       "  {'skater_no': '21', 'skater_name': 'Coco Frye'},\n",
       "  {'skater_no': '235', 'skater_name': 'Atomic Mel-Down'},\n",
       "  {'skater_no': '27', 'skater_name': 'H.M.Smith'},\n",
       "  {'skater_no': '301', 'skater_name': 'Legs R Us'},\n",
       "  {'skater_no': '480', 'skater_name': 'Erin Jackson'},\n",
       "  {'skater_no': '6', 'skater_name': 'Snot Rocket Science'},\n",
       "  {'skater_no': '62', 'skater_name': 'Fancy Schmancy'},\n",
       "  {'skater_no': '814', 'skater_name': 'Leanne Groll'},\n",
       "  {'skater_no': '82', 'skater_name': 'Tic Tac Toni'},\n",
       "  {'skater_no': '860', 'skater_name': 'Shady Godiva'},\n",
       "  {'skater_no': '9', 'skater_name': 'Stephanie Gentz'},\n",
       "  {'skater_no': '912', 'skater_name': 'Eirinn Go Brawl'},\n",
       "  {'skater_no': '950', 'skater_name': 'Bullet Sucker'}]}"
      ]
     },
     "execution_count": 19,
     "metadata": {},
     "output_type": "execute_result"
    }
   ],
   "source": [
    "clean_igrf(\"../STATS/all_stars_2018/test.xlsx\")"
   ]
  },
  {
   "cell_type": "code",
   "execution_count": null,
   "metadata": {},
   "outputs": [],
   "source": [
    "#for every skater - only add entry if doesn't exist\n",
    "\n",
    "# 1) if EXISTS - GET Player ID from the table\n",
    "\n",
    "# 2) if DOES NOT EXIST - then add player and establish new id"
   ]
  },
  {
   "cell_type": "code",
   "execution_count": null,
   "metadata": {},
   "outputs": [],
   "source": [
    "engine = create_engine('sqlite://', echo=False)\n",
    "df.to_sql('postgres', con=engine)"
   ]
  }
 ],
 "metadata": {
  "kernelspec": {
   "display_name": "Python 3",
   "language": "python",
   "name": "python3"
  },
  "language_info": {
   "codemirror_mode": {
    "name": "ipython",
    "version": 3
   },
   "file_extension": ".py",
   "mimetype": "text/x-python",
   "name": "python",
   "nbconvert_exporter": "python",
   "pygments_lexer": "ipython3",
   "version": "3.8.5"
  },
  "toc": {
   "base_numbering": 1,
   "nav_menu": {},
   "number_sections": true,
   "sideBar": true,
   "skip_h1_title": false,
   "title_cell": "Table of Contents",
   "title_sidebar": "Contents",
   "toc_cell": false,
   "toc_position": {},
   "toc_section_display": true,
   "toc_window_display": false
  },
  "varInspector": {
   "cols": {
    "lenName": 16,
    "lenType": 16,
    "lenVar": 40
   },
   "kernels_config": {
    "python": {
     "delete_cmd_postfix": "",
     "delete_cmd_prefix": "del ",
     "library": "var_list.py",
     "varRefreshCmd": "print(var_dic_list())"
    },
    "r": {
     "delete_cmd_postfix": ") ",
     "delete_cmd_prefix": "rm(",
     "library": "var_list.r",
     "varRefreshCmd": "cat(var_dic_list()) "
    }
   },
   "types_to_exclude": [
    "module",
    "function",
    "builtin_function_or_method",
    "instance",
    "_Feature"
   ],
   "window_display": false
  }
 },
 "nbformat": 4,
 "nbformat_minor": 4
}
