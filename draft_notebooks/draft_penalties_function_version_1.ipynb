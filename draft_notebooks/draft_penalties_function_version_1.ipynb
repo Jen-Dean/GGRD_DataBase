{
 "cells": [
  {
   "cell_type": "code",
   "execution_count": null,
   "metadata": {},
   "outputs": [],
   "source": [
    "import pandas as pd\n",
    "import openpyxl\n",
    "from IPython.display import display"
   ]
  },
  {
   "cell_type": "code",
   "execution_count": null,
   "metadata": {},
   "outputs": [],
   "source": [
    "path = \"../STATS/all_stars_2018/test.xlsx\"\n",
    "stats_df = pd.read_excel(path, sheet_name=\"Penalties\", engine=\"openpyxl\")\n",
    "\n",
    "stats_df = stats_df.drop([0], axis = \"index\")\n",
    "stats_df = stats_df.rename(columns=stats_df.iloc[0]).drop(stats_df.index[0])\n",
    "stats_df.columns = [\"home_skater_number_period_1\",\n",
    "                    \"HOME_PENALTY_JAM_NUMBER_1\",\n",
    "                  \"HOME_PENALTY_JAM_NUMBER_2\",\n",
    "                   \"HOME_PENALTY_JAM_NUMBER_3\",\n",
    "                   \"HOME_PENALTY_JAM_NUMBER_4\",\n",
    "                   \"HOME_PENALTY_JAM_NUMBER_5\",\n",
    "                    \"HOME_PENALTY_JAM_NUMBER_6\",\n",
    "                    \"HOME_PENALTY_JAM_NUMBER_7\",\n",
    "                    \"HOME_PENALTY_JAM_NUMBER_8\",\n",
    "                    \"HOME_PENALTY_JAM_NUMBER_9\",\n",
    "                   \"not_needed\", \n",
    "                   \"not_needed\",\n",
    "                   \"not_needed\",\n",
    "                   \"not_needed\",\n",
    "                   \"not_needed\",\n",
    "                   \"away_skater_number_period_1\",\n",
    "                    \"AWAY_PENALTY_JAM_NUMBER_1\",\n",
    "                  \"AWAY_PENALTY_JAM_NUMBER_2\",\n",
    "                   \"AWAY_PENALTY_JAM_NUMBER_3\",\n",
    "                   \"AWAY_PENALTY_JAM_NUMBER_4\",\n",
    "                   \"AWAY_PENALTY_JAM_NUMBER_5\",\n",
    "                    \"AWAY_PENALTY_JAM_NUMBER_6\",\n",
    "                    \"AWAY_PENALTY_JAM_NUMBER_7\",\n",
    "                    \"AWAY_PENALTY_JAM_NUMBER_8\",\n",
    "                    \"AWAY_PENALTY_JAM_NUMBER_9\",\n",
    "                   \"not_needed\",\n",
    "                   \"not_needed\",\n",
    "                   \"not_needed\",\n",
    "                    \"home_skater_number_period_2\",\n",
    "                   \"HOME_PENALTY_JAM_NUMBER_1_2\",\n",
    "                    \"HOME_PENALTY_JAM_NUMBER_2_2\",\n",
    "                   \"HOME_PENALTY_JAM_NUMBER_3_2\",\n",
    "                   \"HOME_PENALTY_JAM_NUMBER_4_2\",\n",
    "                   \"HOME_PENALTY_JAM_NUMBER_5_2\",\n",
    "                    \"HOME_PENALTY_JAM_NUMBER_6_2\",\n",
    "                    \"HOME_PENALTY_JAM_NUMBER_7_2\",\n",
    "                    \"HOME_PENALTY_JAM_NUMBER_8_2\",\n",
    "                    \"HOME_PENALTY_JAM_NUMBER_9_2\",\n",
    "                         \"not_needed\", \n",
    "                   \"not_needed\",\n",
    "                   \"not_needed\",\n",
    "                   \"not_needed\",\n",
    "                    \"not_needed\",\n",
    "                         \"away_skater_number_period_2\",\n",
    "                    \"AWAY_PENALTY_JAM_NUMBER_1_2\",\n",
    "                  \"AWAY_PENALTY_JAM_NUMBER_2_2\",\n",
    "                   \"AWAY_PENALTY_JAM_NUMBER_3_2\",\n",
    "                   \"AWAY_PENALTY_JAM_NUMBER_4_2\",\n",
    "                   \"AWAY_PENALTY_JAM_NUMBER_5_2\",\n",
    "                    \"AWAY_PENALTY_JAM_NUMBER_6_2\",\n",
    "                    \"AWAY_PENALTY_JAM_NUMBER_7_2\",\n",
    "                    \"AWAY_PENALTY_JAM_NUMBER_8_2\",\n",
    "                    \"AWAY_PENALTY_JAM_NUMBER_9_2\",\n",
    "                   \"not_needed\",\n",
    "                   \"not_needed\",\n",
    "                   \"not_needed\"]\n",
    "stats_df = stats_df.reset_index(drop=True)\n",
    "stats_df = stats_df.drop([\"not_needed\"], axis = 1)\n",
    "stats_df = stats_df.fillna(\"Zero\")\n"
   ]
  },
  {
   "cell_type": "code",
   "execution_count": null,
   "metadata": {},
   "outputs": [],
   "source": [
    "#AWAY TEAM PERIOD 2\n",
    "\n",
    "away_period2_stats_df = stats_df.filter([\"away_skater_number_period_2\",\n",
    "                    \"AWAY_PENALTY_JAM_NUMBER_1_2\",\n",
    "                  \"AWAY_PENALTY_JAM_NUMBER_2_2\",\n",
    "                   \"AWAY_PENALTY_JAM_NUMBER_3_2\",\n",
    "                   \"AWAY_PENALTY_JAM_NUMBER_4_2\",\n",
    "                   \"AWAY_PENALTY_JAM_NUMBER_5_2\",\n",
    "                    \"AWAY_PENALTY_JAM_NUMBER_6_2\",\n",
    "                    \"AWAY_PENALTY_JAM_NUMBER_7_2\",\n",
    "                    \"AWAY_PENALTY_JAM_NUMBER_8_2\",\n",
    "                    \"AWAY_PENALTY_JAM_NUMBER_9_2\"], axis=1)\n",
    "\n",
    "away_period2_stats_df.head(2)"
   ]
  },
  {
   "cell_type": "code",
   "execution_count": null,
   "metadata": {},
   "outputs": [],
   "source": [
    "#AWAY TEAM PERIOD 1\n",
    "\n",
    "away_period1_stats_df = stats_df.filter([\"away_skater_number_period_1\",\n",
    "                    \"AWAY_PENALTY_JAM_NUMBER_1\",\n",
    "                  \"AWAY_PENALTY_JAM_NUMBER_2\",\n",
    "                   \"AWAY_PENALTY_JAM_NUMBER_3\",\n",
    "                   \"AWAY_PENALTY_JAM_NUMBER_4\",\n",
    "                   \"AWAY_PENALTY_JAM_NUMBER_5\",\n",
    "                    \"AWAY_PENALTY_JAM_NUMBER_6\",\n",
    "                    \"AWAY_PENALTY_JAM_NUMBER_7\",\n",
    "                    \"AWAY_PENALTY_JAM_NUMBER_8\",\n",
    "                    \"AWAY_PENALTY_JAM_NUMBER_9\"], axis=1)\n",
    "\n",
    "away_period1_stats_df.head(2)"
   ]
  },
  {
   "cell_type": "code",
   "execution_count": null,
   "metadata": {},
   "outputs": [],
   "source": [
    "#HOME TEAM PERIOD 2\n",
    "\n",
    "home_period2_stats_df = stats_df.filter([\"home_skater_number_period_2\",\n",
    "                   \"HOME_PENALTY_JAM_NUMBER_1_2\",\n",
    "                    \"HOME_PENALTY_JAM_NUMBER_2_2\",\n",
    "                   \"HOME_PENALTY_JAM_NUMBER_3_2\",\n",
    "                   \"HOME_PENALTY_JAM_NUMBER_4_2\",\n",
    "                   \"HOME_PENALTY_JAM_NUMBER_5_2\",\n",
    "                    \"HOME_PENALTY_JAM_NUMBER_6_2\",\n",
    "                    \"HOME_PENALTY_JAM_NUMBER_7_2\",\n",
    "                    \"HOME_PENALTY_JAM_NUMBER_8_2\",\n",
    "                    \"HOME_PENALTY_JAM_NUMBER_9_2\"], axis=1)\n",
    "\n",
    "home_period2_stats_df.head()"
   ]
  },
  {
   "cell_type": "code",
   "execution_count": null,
   "metadata": {},
   "outputs": [],
   "source": [
    "#HOME TEAM PERIOD 1\n",
    "\n",
    "home_period1_stats_df = stats_df.filter([\"home_skater_number_period_1\",\n",
    "                    \"HOME_PENALTY_JAM_NUMBER_1\",\n",
    "                  \"HOME_PENALTY_JAM_NUMBER_2\",\n",
    "                   \"HOME_PENALTY_JAM_NUMBER_3\",\n",
    "                   \"HOME_PENALTY_JAM_NUMBER_4\",\n",
    "                   \"HOME_PENALTY_JAM_NUMBER_5\",\n",
    "                    \"HOME_PENALTY_JAM_NUMBER_6\",\n",
    "                    \"HOME_PENALTY_JAM_NUMBER_7\",\n",
    "                    \"HOME_PENALTY_JAM_NUMBER_8\",\n",
    "                    \"HOME_PENALTY_JAM_NUMBER_9\"], axis=1)\n",
    "\n",
    "home_period1_stats_df.head()"
   ]
  },
  {
   "cell_type": "code",
   "execution_count": null,
   "metadata": {},
   "outputs": [],
   "source": [
    "#if value in 1st line = NAN, replace with previous line\n",
    "\n",
    "for index, row in home_period1_stats_df.iterrows():\n",
    "    \n",
    "    if row.home_skater_number_period_1 != \"Zero\":\n",
    "        number = row.home_skater_number_period_1\n",
    "        \n",
    "    else:\n",
    "        row.home_skater_number_period_1 = number\n",
    "    \n"
   ]
  },
  {
   "cell_type": "code",
   "execution_count": null,
   "metadata": {},
   "outputs": [],
   "source": [
    "home_period1_stats_df"
   ]
  },
  {
   "cell_type": "code",
   "execution_count": null,
   "metadata": {},
   "outputs": [],
   "source": [
    "test_df = home_period1_stats_df.set_index(home_period1_stats_df.home_skater_number_period_1, drop=True)\n",
    "test_df = test_df.drop(columns=\"home_skater_number_period_1\")\n",
    "test_df"
   ]
  },
  {
   "cell_type": "code",
   "execution_count": null,
   "metadata": {},
   "outputs": [],
   "source": [
    "new_test_df = test_df.HOME_PENALTY_JAM_NUMBER_1.append(test_df.HOME_PENALTY_JAM_NUMBER_2).append(test_df.HOME_PENALTY_JAM_NUMBER_3).\\\n",
    "    append(test_df.HOME_PENALTY_JAM_NUMBER_4).\\\n",
    "    append(test_df.HOME_PENALTY_JAM_NUMBER_5).\\\n",
    "    append(test_df.HOME_PENALTY_JAM_NUMBER_6).\\\n",
    "    append(test_df.HOME_PENALTY_JAM_NUMBER_7).\\\n",
    "    append(test_df.HOME_PENALTY_JAM_NUMBER_8).\\\n",
    "    append(test_df.HOME_PENALTY_JAM_NUMBER_9)\n",
    "\n"
   ]
  },
  {
   "cell_type": "code",
   "execution_count": null,
   "metadata": {},
   "outputs": [],
   "source": [
    "new_df = pd.DataFrame({\"jam_number\": new_test_df,\n",
    "                       \"penalty_code\": new_test_df,   \n",
    "})"
   ]
  },
  {
   "cell_type": "code",
   "execution_count": null,
   "metadata": {},
   "outputs": [],
   "source": [
    "new_df"
   ]
  },
  {
   "cell_type": "code",
   "execution_count": null,
   "metadata": {},
   "outputs": [],
   "source": [
    "for index, row in new_df.iterrows(): \n",
    "    if isinstance(row.jam_number, str):\n",
    "        row.jam_number = None       \n",
    "        \n",
    "for index, row in new_df.iterrows():\n",
    "    if isinstance(row.penalty_code, str):\n",
    "        code = row.penalty_code\n",
    "    else: \n",
    "        row.penalty_code = code\n"
   ]
  },
  {
   "cell_type": "code",
   "execution_count": null,
   "metadata": {},
   "outputs": [],
   "source": [
    "new_df = new_df.dropna()\n",
    "new_df"
   ]
  },
  {
   "cell_type": "code",
   "execution_count": null,
   "metadata": {},
   "outputs": [],
   "source": [
    "new_df = new_df.drop(\"Non-Skater Expulsions\")"
   ]
  },
  {
   "cell_type": "code",
   "execution_count": null,
   "metadata": {},
   "outputs": [],
   "source": [
    "new_df[\"period\"] = 1"
   ]
  },
  {
   "cell_type": "code",
   "execution_count": null,
   "metadata": {},
   "outputs": [],
   "source": [
    "new_df = new_df.reset_index()\n",
    "new_df"
   ]
  },
  {
   "cell_type": "code",
   "execution_count": null,
   "metadata": {},
   "outputs": [],
   "source": [
    "# do this 3 more times with the other AWAY & Period 2\n",
    "\n"
   ]
  }
 ],
 "metadata": {
  "kernelspec": {
   "display_name": "Python 3",
   "language": "python",
   "name": "python3"
  },
  "language_info": {
   "codemirror_mode": {
    "name": "ipython",
    "version": 3
   },
   "file_extension": ".py",
   "mimetype": "text/x-python",
   "name": "python",
   "nbconvert_exporter": "python",
   "pygments_lexer": "ipython3",
   "version": "3.8.5"
  },
  "toc": {
   "base_numbering": 1,
   "nav_menu": {},
   "number_sections": true,
   "sideBar": true,
   "skip_h1_title": false,
   "title_cell": "Table of Contents",
   "title_sidebar": "Contents",
   "toc_cell": false,
   "toc_position": {},
   "toc_section_display": true,
   "toc_window_display": false
  },
  "varInspector": {
   "cols": {
    "lenName": 16,
    "lenType": 16,
    "lenVar": 40
   },
   "kernels_config": {
    "python": {
     "delete_cmd_postfix": "",
     "delete_cmd_prefix": "del ",
     "library": "var_list.py",
     "varRefreshCmd": "print(var_dic_list())"
    },
    "r": {
     "delete_cmd_postfix": ") ",
     "delete_cmd_prefix": "rm(",
     "library": "var_list.r",
     "varRefreshCmd": "cat(var_dic_list()) "
    }
   },
   "types_to_exclude": [
    "module",
    "function",
    "builtin_function_or_method",
    "instance",
    "_Feature"
   ],
   "window_display": false
  }
 },
 "nbformat": 4,
 "nbformat_minor": 4
}
