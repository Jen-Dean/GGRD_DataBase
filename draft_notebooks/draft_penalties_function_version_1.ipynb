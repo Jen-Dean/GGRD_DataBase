{
 "cells": [
  {
   "cell_type": "code",
   "execution_count": null,
   "metadata": {},
   "outputs": [],
   "source": [
    "import pandas as pd\n",
    "import openpyxl\n",
    "from IPython.display import display"
   ]
  },
  {
   "cell_type": "code",
   "execution_count": null,
   "metadata": {},
   "outputs": [],
   "source": [
    "path = \"../STATS/all_stars_2018/test.xlsx\"\n",
    "stats_df = pd.read_excel(path, sheet_name=\"Penalties\", engine=\"openpyxl\")\n",
    "\n",
    "stats_df = stats_df.drop([0], axis = \"index\")\n",
    "stats_df = stats_df.rename(columns=stats_df.iloc[0]).drop(stats_df.index[0])\n",
    "stats_df.columns = [\"home_skater_number_period_1\",\n",
    "                    \"HOME_PENALTY_JAM_NUMBER_1\",\n",
    "                  \"HOME_PENALTY_JAM_NUMBER_2\",\n",
    "                   \"HOME_PENALTY_JAM_NUMBER_3\",\n",
    "                   \"HOME_PENALTY_JAM_NUMBER_4\",\n",
    "                   \"HOME_PENALTY_JAM_NUMBER_5\",\n",
    "                    \"HOME_PENALTY_JAM_NUMBER_6\",\n",
    "                    \"HOME_PENALTY_JAM_NUMBER_7\",\n",
    "                    \"HOME_PENALTY_JAM_NUMBER_8\",\n",
    "                    \"HOME_PENALTY_JAM_NUMBER_9\",\n",
    "                   \"not_needed\", \n",
    "                   \"not_needed\",\n",
    "                   \"not_needed\",\n",
    "                   \"not_needed\",\n",
    "                   \"not_needed\",\n",
    "                   \"away_skater_number_period_1\",\n",
    "                    \"AWAY_PENALTY_JAM_NUMBER_1\",\n",
    "                  \"AWAY_PENALTY_JAM_NUMBER_2\",\n",
    "                   \"AWAY_PENALTY_JAM_NUMBER_3\",\n",
    "                   \"AWAY_PENALTY_JAM_NUMBER_4\",\n",
    "                   \"AWAY_PENALTY_JAM_NUMBER_5\",\n",
    "                    \"AWAY_PENALTY_JAM_NUMBER_6\",\n",
    "                    \"AWAY_PENALTY_JAM_NUMBER_7\",\n",
    "                    \"AWAY_PENALTY_JAM_NUMBER_8\",\n",
    "                    \"AWAY_PENALTY_JAM_NUMBER_9\",\n",
    "                   \"not_needed\",\n",
    "                   \"not_needed\",\n",
    "                   \"not_needed\",\n",
    "                    \"home_skater_number_period_2\",\n",
    "                   \"HOME_PENALTY_JAM_NUMBER_1_2\",\n",
    "                    \"HOME_PENALTY_JAM_NUMBER_2_2\",\n",
    "                   \"HOME_PENALTY_JAM_NUMBER_3_2\",\n",
    "                   \"HOME_PENALTY_JAM_NUMBER_4_2\",\n",
    "                   \"HOME_PENALTY_JAM_NUMBER_5_2\",\n",
    "                    \"HOME_PENALTY_JAM_NUMBER_6_2\",\n",
    "                    \"HOME_PENALTY_JAM_NUMBER_7_2\",\n",
    "                    \"HOME_PENALTY_JAM_NUMBER_8_2\",\n",
    "                    \"HOME_PENALTY_JAM_NUMBER_9_2\",\n",
    "                         \"not_needed\", \n",
    "                   \"not_needed\",\n",
    "                   \"not_needed\",\n",
    "                   \"not_needed\",\n",
    "                    \"not_needed\",\n",
    "                         \"away_skater_number_period_2\",\n",
    "                    \"AWAY_PENALTY_JAM_NUMBER_1_2\",\n",
    "                  \"AWAY_PENALTY_JAM_NUMBER_2_2\",\n",
    "                   \"AWAY_PENALTY_JAM_NUMBER_3_2\",\n",
    "                   \"AWAY_PENALTY_JAM_NUMBER_4_2\",\n",
    "                   \"AWAY_PENALTY_JAM_NUMBER_5_2\",\n",
    "                    \"AWAY_PENALTY_JAM_NUMBER_6_2\",\n",
    "                    \"AWAY_PENALTY_JAM_NUMBER_7_2\",\n",
    "                    \"AWAY_PENALTY_JAM_NUMBER_8_2\",\n",
    "                    \"AWAY_PENALTY_JAM_NUMBER_9_2\",\n",
    "                   \"not_needed\",\n",
    "                   \"not_needed\",\n",
    "                   \"not_needed\"]\n",
    "stats_df = stats_df.reset_index(drop=True)\n",
    "stats_df = stats_df.drop([\"not_needed\"], axis = 1)\n",
    "stats_df = stats_df.fillna(\"Zero\")"
   ]
  },
  {
   "cell_type": "code",
   "execution_count": null,
   "metadata": {},
   "outputs": [],
   "source": [
    "#AWAY TEAM PERIOD 2\n",
    "\n",
    "away_period_2 = stats_df.filter([\"away_skater_number_period_2\",\n",
    "                    \"AWAY_PENALTY_JAM_NUMBER_1_2\",\n",
    "                  \"AWAY_PENALTY_JAM_NUMBER_2_2\",\n",
    "                   \"AWAY_PENALTY_JAM_NUMBER_3_2\",\n",
    "                   \"AWAY_PENALTY_JAM_NUMBER_4_2\",\n",
    "                   \"AWAY_PENALTY_JAM_NUMBER_5_2\",\n",
    "                    \"AWAY_PENALTY_JAM_NUMBER_6_2\",\n",
    "                    \"AWAY_PENALTY_JAM_NUMBER_7_2\",\n",
    "                    \"AWAY_PENALTY_JAM_NUMBER_8_2\",\n",
    "                    \"AWAY_PENALTY_JAM_NUMBER_9_2\"], axis=1)\n",
    "away_period_2[\"period\"] = 2"
   ]
  },
  {
   "cell_type": "code",
   "execution_count": null,
   "metadata": {},
   "outputs": [],
   "source": [
    "#AWAY TEAM PERIOD 1\n",
    "\n",
    "away_period_1 = stats_df.filter([\"away_skater_number_period_1\",\n",
    "                    \"AWAY_PENALTY_JAM_NUMBER_1\",\n",
    "                  \"AWAY_PENALTY_JAM_NUMBER_2\",\n",
    "                   \"AWAY_PENALTY_JAM_NUMBER_3\",\n",
    "                   \"AWAY_PENALTY_JAM_NUMBER_4\",\n",
    "                   \"AWAY_PENALTY_JAM_NUMBER_5\",\n",
    "                    \"AWAY_PENALTY_JAM_NUMBER_6\",\n",
    "                    \"AWAY_PENALTY_JAM_NUMBER_7\",\n",
    "                    \"AWAY_PENALTY_JAM_NUMBER_8\",\n",
    "                    \"AWAY_PENALTY_JAM_NUMBER_9\"], axis=1)\n",
    "away_period_1[\"period\"] = 1"
   ]
  },
  {
   "cell_type": "code",
   "execution_count": null,
   "metadata": {},
   "outputs": [],
   "source": [
    "#HOME TEAM PERIOD 2\n",
    "\n",
    "home_period_2 = stats_df.filter([\"home_skater_number_period_2\",\n",
    "                   \"HOME_PENALTY_JAM_NUMBER_1_2\",\n",
    "                    \"HOME_PENALTY_JAM_NUMBER_2_2\",\n",
    "                   \"HOME_PENALTY_JAM_NUMBER_3_2\",\n",
    "                   \"HOME_PENALTY_JAM_NUMBER_4_2\",\n",
    "                   \"HOME_PENALTY_JAM_NUMBER_5_2\",\n",
    "                    \"HOME_PENALTY_JAM_NUMBER_6_2\",\n",
    "                    \"HOME_PENALTY_JAM_NUMBER_7_2\",\n",
    "                    \"HOME_PENALTY_JAM_NUMBER_8_2\",\n",
    "                    \"HOME_PENALTY_JAM_NUMBER_9_2\"], axis=1)\n",
    "home_period_2[\"period\"] = 2"
   ]
  },
  {
   "cell_type": "code",
   "execution_count": null,
   "metadata": {},
   "outputs": [],
   "source": [
    "#HOME TEAM PERIOD 1\n",
    "\n",
    "home_period_1 = stats_df.filter([\"home_skater_number_period_1\",\n",
    "                    \"HOME_PENALTY_JAM_NUMBER_1\",\n",
    "                  \"HOME_PENALTY_JAM_NUMBER_2\",\n",
    "                   \"HOME_PENALTY_JAM_NUMBER_3\",\n",
    "                   \"HOME_PENALTY_JAM_NUMBER_4\",\n",
    "                   \"HOME_PENALTY_JAM_NUMBER_5\",\n",
    "                    \"HOME_PENALTY_JAM_NUMBER_6\",\n",
    "                    \"HOME_PENALTY_JAM_NUMBER_7\",\n",
    "                    \"HOME_PENALTY_JAM_NUMBER_8\",\n",
    "                    \"HOME_PENALTY_JAM_NUMBER_9\"], axis=1)\n",
    "home_period_1[\"period\"] = 1"
   ]
  },
  {
   "cell_type": "code",
   "execution_count": null,
   "metadata": {},
   "outputs": [],
   "source": [
    "home_period_1.head(2)\n",
    "#away_period_1.head(2)\n",
    "#home_period_2.head(2)\n",
    "#away_period_2.head(2)"
   ]
  },
  {
   "cell_type": "code",
   "execution_count": null,
   "metadata": {},
   "outputs": [],
   "source": [
    "period_series = home_period_1[\"period\"][0]\n",
    "\n",
    "period_series"
   ]
  },
  {
   "cell_type": "code",
   "execution_count": null,
   "metadata": {},
   "outputs": [],
   "source": [
    "def cleaning_penalties(df):\n",
    "    \n",
    "    df.columns = [\"skater_number\",\n",
    "                        \"column_1\",\n",
    "                        \"column_2\",\n",
    "                        \"column_3\",\n",
    "                        \"column_4\",\n",
    "                        \"column_5\",\n",
    "                        \"column_6\",\n",
    "                        \"column_7\",\n",
    "                        \"column_8\",\n",
    "                        \"column_9\",\n",
    "                        \"period\"]  \n",
    "    \n",
    "    df = for index, row in df.iterrows():    \n",
    "            if row.skater_number != \"Zero\":\n",
    "                number = row.skater_number      \n",
    "            else:\n",
    "                row.skater_number = number\n",
    "            \n",
    "    df = df.set_index(df.skater_number, drop=True)\n",
    "    df = df.drop(columns=\"skater_number\")\n",
    "    \n",
    "    series_func = df.column_1.\\\n",
    "                    append(df.column_2).\\\n",
    "                    append(df.column_3).\\\n",
    "                    append(df.column_4).\\\n",
    "                    append(df.column_5).\\\n",
    "                    append(df.column_6).\\\n",
    "                    append(df.column_7).\\\n",
    "                    append(df.column_8).\\\n",
    "                    append(df.column_9)\n",
    "    \n",
    "    df = pd.DataFrame({\"jam_number\": series_func, \n",
    "                        \"penalty_code\": series_func,\n",
    "                        \"period\": df[\"period\"][0]})\n",
    "    \n",
    "    df = for index, row in df.iterrows(): \n",
    "            if isinstance(row.jam_number, str):\n",
    "                row.jam_number = None       \n",
    "\n",
    "    df = for index, row in df.iterrows():\n",
    "            if isinstance(row.penalty_code, str):\n",
    "                code = row.penalty_code\n",
    "            else: \n",
    "                row.penalty_code = code  \n",
    "            \n",
    "    df = df.dropna()\n",
    "    df = df.drop(\"Non-Skater Expulsions\")\n",
    "    df = df.reset_index()\n",
    "    \n",
    "    return df"
   ]
  },
  {
   "cell_type": "code",
   "execution_count": null,
   "metadata": {},
   "outputs": [],
   "source": [
    "cleaning_penalties(home_period_1)"
   ]
  },
  {
   "cell_type": "code",
   "execution_count": null,
   "metadata": {},
   "outputs": [],
   "source": [
    "home_period_1.head()"
   ]
  },
  {
   "cell_type": "code",
   "execution_count": null,
   "metadata": {},
   "outputs": [],
   "source": [
    "for index, row in home_period_1.iterrows():\n",
    "    \n",
    "    if row.skater_number != \"Zero\":\n",
    "        number = row.skater_number\n",
    "        \n",
    "    else:\n",
    "        row.skater_number = number"
   ]
  },
  {
   "cell_type": "code",
   "execution_count": null,
   "metadata": {},
   "outputs": [],
   "source": [
    "home_period_1.head()"
   ]
  },
  {
   "cell_type": "code",
   "execution_count": null,
   "metadata": {},
   "outputs": [],
   "source": []
  }
 ],
 "metadata": {
  "kernelspec": {
   "display_name": "Python 3",
   "language": "python",
   "name": "python3"
  },
  "language_info": {
   "codemirror_mode": {
    "name": "ipython",
    "version": 3
   },
   "file_extension": ".py",
   "mimetype": "text/x-python",
   "name": "python",
   "nbconvert_exporter": "python",
   "pygments_lexer": "ipython3",
   "version": "3.8.5"
  },
  "toc": {
   "base_numbering": 1,
   "nav_menu": {},
   "number_sections": true,
   "sideBar": true,
   "skip_h1_title": false,
   "title_cell": "Table of Contents",
   "title_sidebar": "Contents",
   "toc_cell": false,
   "toc_position": {},
   "toc_section_display": true,
   "toc_window_display": false
  },
  "varInspector": {
   "cols": {
    "lenName": 16,
    "lenType": 16,
    "lenVar": 40
   },
   "kernels_config": {
    "python": {
     "delete_cmd_postfix": "",
     "delete_cmd_prefix": "del ",
     "library": "var_list.py",
     "varRefreshCmd": "print(var_dic_list())"
    },
    "r": {
     "delete_cmd_postfix": ") ",
     "delete_cmd_prefix": "rm(",
     "library": "var_list.r",
     "varRefreshCmd": "cat(var_dic_list()) "
    }
   },
   "types_to_exclude": [
    "module",
    "function",
    "builtin_function_or_method",
    "instance",
    "_Feature"
   ],
   "window_display": false
  }
 },
 "nbformat": 4,
 "nbformat_minor": 4
}
