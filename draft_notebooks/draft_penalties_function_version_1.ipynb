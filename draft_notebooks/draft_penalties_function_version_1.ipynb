{
 "cells": [
  {
   "cell_type": "code",
   "execution_count": 1,
   "metadata": {
    "ExecuteTime": {
     "end_time": "2020-12-23T22:05:44.775060Z",
     "start_time": "2020-12-23T22:05:44.413473Z"
    }
   },
   "outputs": [],
   "source": [
    "import pandas as pd\n",
    "import openpyxl\n",
    "from IPython.display import display"
   ]
  },
  {
   "cell_type": "code",
   "execution_count": 2,
   "metadata": {
    "ExecuteTime": {
     "end_time": "2020-12-23T22:05:45.097874Z",
     "start_time": "2020-12-23T22:05:44.777419Z"
    }
   },
   "outputs": [
    {
     "name": "stderr",
     "output_type": "stream",
     "text": [
      "/opt/anaconda3/lib/python3.8/site-packages/openpyxl/worksheet/_reader.py:300: UserWarning: Conditional Formatting extension is not supported and will be removed\n",
      "  warn(msg)\n",
      "/opt/anaconda3/lib/python3.8/site-packages/openpyxl/worksheet/_reader.py:300: UserWarning: Unknown extension is not supported and will be removed\n",
      "  warn(msg)\n"
     ]
    }
   ],
   "source": [
    "path = \"../STATS/all_stars_2018/test.xlsx\"\n",
    "stats_df = pd.read_excel(path, sheet_name=\"Penalties\", engine=\"openpyxl\")\n",
    "\n",
    "stats_df = stats_df.drop([0], axis = \"index\")\n",
    "stats_df = stats_df.rename(columns=stats_df.iloc[0]).drop(stats_df.index[0])\n",
    "stats_df.columns = [\"HOME_skaternum_1\",\n",
    "                    \"HOME_1_1\",\n",
    "                    \"HOME_2_1\",\n",
    "                    \"HOME_3_1\",\n",
    "                    \"HOME_4_1\",\n",
    "                    \"HOME_5_1\",\n",
    "                    \"HOME_6_1\",\n",
    "                    \"HOME_7_1\",\n",
    "                    \"HOME_8_1\",\n",
    "                    \"HOME_9_1\",\n",
    "                    \"not_needed\", \n",
    "                    \"not_needed\",\n",
    "                    \"not_needed\",\n",
    "                    \"not_needed\",\n",
    "                    \"not_needed\",\n",
    "                    \"AWAY_skaternum_1\",\n",
    "                    \"AWAY_1_1\",\n",
    "                    \"AWAY_2_1\",\n",
    "                    \"AWAY_3_1\",\n",
    "                    \"AWAY_4_1\",\n",
    "                    \"AWAY_5_1\",\n",
    "                    \"AWAY_6_1\",\n",
    "                    \"AWAY_7_1\",\n",
    "                    \"AWAY_8_1\",\n",
    "                    \"AWAY_9_1\",\n",
    "                    \"not_needed\",\n",
    "                    \"not_needed\",\n",
    "                    \"not_needed\",\n",
    "                    \"HOME_skaternum_2\",\n",
    "                    \"HOME_1_2\",\n",
    "                    \"HOME_2_2\",\n",
    "                    \"HOME_3_2\",\n",
    "                    \"HOME_4_2\",\n",
    "                    \"HOME_5_2\",\n",
    "                    \"HOME_6_2\",\n",
    "                    \"HOME_7_2\",\n",
    "                    \"HOME_8_2\",\n",
    "                    \"HOME_9_2\",\n",
    "                    \"not_needed\", \n",
    "                    \"not_needed\",\n",
    "                    \"not_needed\",\n",
    "                    \"not_needed\",\n",
    "                    \"not_needed\",\n",
    "                    \"AWAY_skaternum_2\",\n",
    "                    \"AWAY_1_2\",\n",
    "                    \"AWAY_2_2\",\n",
    "                    \"AWAY_3_2\",\n",
    "                    \"AWAY_4_2\",\n",
    "                    \"AWAY_5_2\",\n",
    "                    \"AWAY_6_2\",\n",
    "                    \"AWAY_7_2\",\n",
    "                    \"AWAY_8_2\",\n",
    "                    \"AWAY_9_2\",\n",
    "                    \"not_needed\",\n",
    "                    \"not_needed\",\n",
    "                    \"not_needed\"]\n",
    "stats_df = stats_df.reset_index(drop=True)\n",
    "stats_df = stats_df.drop([\"not_needed\"], axis = 1)\n",
    "stats_df = stats_df.fillna(\"Zero\")"
   ]
  },
  {
   "cell_type": "code",
   "execution_count": 3,
   "metadata": {
    "ExecuteTime": {
     "end_time": "2020-12-23T22:05:45.106206Z",
     "start_time": "2020-12-23T22:05:45.101651Z"
    }
   },
   "outputs": [],
   "source": [
    "#AWAY TEAM PERIOD 2\n",
    "\n",
    "away_period_2 = stats_df.filter([\n",
    "                    \"AWAY_skaternum_2\",\n",
    "                    \"AWAY_1_2\",\n",
    "                    \"AWAY_2_2\",\n",
    "                    \"AWAY_3_2\",\n",
    "                    \"AWAY_4_2\",\n",
    "                    \"AWAY_5_2\",\n",
    "                    \"AWAY_6_2\",\n",
    "                    \"AWAY_7_2\",\n",
    "                    \"AWAY_8_2\",\n",
    "                    \"AWAY_9_2\"], axis=1)\n",
    "\n",
    "away_period_2[\"period\"] = 2"
   ]
  },
  {
   "cell_type": "code",
   "execution_count": 4,
   "metadata": {
    "ExecuteTime": {
     "end_time": "2020-12-23T22:05:45.112905Z",
     "start_time": "2020-12-23T22:05:45.108836Z"
    }
   },
   "outputs": [],
   "source": [
    "#AWAY TEAM PERIOD 1\n",
    "\n",
    "away_period_1 = stats_df.filter([\n",
    "                    \"AWAY_skaternum_1\",\n",
    "                    \"AWAY_1_1\",\n",
    "                    \"AWAY_2_1\",\n",
    "                    \"AWAY_3_1\",\n",
    "                    \"AWAY_4_1\",\n",
    "                    \"AWAY_5_1\",\n",
    "                    \"AWAY_6_1\",\n",
    "                    \"AWAY_7_1\",\n",
    "                    \"AWAY_8_1\",\n",
    "                    \"AWAY_9_1\"], axis=1)\n",
    "\n",
    "away_period_1[\"period\"] = 1"
   ]
  },
  {
   "cell_type": "code",
   "execution_count": 5,
   "metadata": {
    "ExecuteTime": {
     "end_time": "2020-12-23T22:05:45.117891Z",
     "start_time": "2020-12-23T22:05:45.114728Z"
    }
   },
   "outputs": [],
   "source": [
    "#HOME TEAM PERIOD 2\n",
    "\n",
    "home_period_2 = stats_df.filter([\n",
    "                    \"HOME_skaternum_2\",\n",
    "                    \"HOME_1_2\",\n",
    "                    \"HOME_2_2\",\n",
    "                    \"HOME_3_2\",\n",
    "                    \"HOME_4_2\",\n",
    "                    \"HOME_5_2\",\n",
    "                    \"HOME_6_2\",\n",
    "                    \"HOME_7_2\",\n",
    "                    \"HOME_8_2\",\n",
    "                    \"HOME_9_2\"], axis=1)\n",
    "\n",
    "home_period_2[\"period\"] = 2"
   ]
  },
  {
   "cell_type": "code",
   "execution_count": 6,
   "metadata": {
    "ExecuteTime": {
     "end_time": "2020-12-23T22:05:45.123580Z",
     "start_time": "2020-12-23T22:05:45.119375Z"
    }
   },
   "outputs": [],
   "source": [
    "#HOME TEAM PERIOD 1\n",
    "\n",
    "home_period_1 = stats_df.filter([\"HOME_skaternum_1\",\n",
    "                    \"HOME_1_1\",\n",
    "                    \"HOME_2_1\",\n",
    "                    \"HOME_3_1\",\n",
    "                    \"HOME_4_1\",\n",
    "                    \"HOME_5_1\",\n",
    "                    \"HOME_6_1\",\n",
    "                    \"HOME_7_1\",\n",
    "                    \"HOME_8_1\",\n",
    "                    \"HOME_9_1\"], axis=1)\n",
    "home_period_1[\"period\"] = 1"
   ]
  },
  {
   "cell_type": "code",
   "execution_count": 7,
   "metadata": {
    "ExecuteTime": {
     "end_time": "2020-12-23T22:05:45.144218Z",
     "start_time": "2020-12-23T22:05:45.124892Z"
    }
   },
   "outputs": [
    {
     "data": {
      "text/html": [
       "<div>\n",
       "<style scoped>\n",
       "    .dataframe tbody tr th:only-of-type {\n",
       "        vertical-align: middle;\n",
       "    }\n",
       "\n",
       "    .dataframe tbody tr th {\n",
       "        vertical-align: top;\n",
       "    }\n",
       "\n",
       "    .dataframe thead th {\n",
       "        text-align: right;\n",
       "    }\n",
       "</style>\n",
       "<table border=\"1\" class=\"dataframe\">\n",
       "  <thead>\n",
       "    <tr style=\"text-align: right;\">\n",
       "      <th></th>\n",
       "      <th>HOME_skaternum_1</th>\n",
       "      <th>HOME_1_1</th>\n",
       "      <th>HOME_2_1</th>\n",
       "      <th>HOME_3_1</th>\n",
       "      <th>HOME_4_1</th>\n",
       "      <th>HOME_5_1</th>\n",
       "      <th>HOME_6_1</th>\n",
       "      <th>HOME_7_1</th>\n",
       "      <th>HOME_8_1</th>\n",
       "      <th>HOME_9_1</th>\n",
       "      <th>period</th>\n",
       "    </tr>\n",
       "  </thead>\n",
       "  <tbody>\n",
       "    <tr>\n",
       "      <th>0</th>\n",
       "      <td>010</td>\n",
       "      <td>X</td>\n",
       "      <td>B</td>\n",
       "      <td>Zero</td>\n",
       "      <td>Zero</td>\n",
       "      <td>Zero</td>\n",
       "      <td>Zero</td>\n",
       "      <td>Zero</td>\n",
       "      <td>Zero</td>\n",
       "      <td>Zero</td>\n",
       "      <td>1</td>\n",
       "    </tr>\n",
       "    <tr>\n",
       "      <th>1</th>\n",
       "      <td>Zero</td>\n",
       "      <td>5</td>\n",
       "      <td>14</td>\n",
       "      <td>Zero</td>\n",
       "      <td>Zero</td>\n",
       "      <td>Zero</td>\n",
       "      <td>Zero</td>\n",
       "      <td>Zero</td>\n",
       "      <td>Zero</td>\n",
       "      <td>Zero</td>\n",
       "      <td>1</td>\n",
       "    </tr>\n",
       "  </tbody>\n",
       "</table>\n",
       "</div>"
      ],
      "text/plain": [
       "  HOME_skaternum_1 HOME_1_1 HOME_2_1 HOME_3_1 HOME_4_1 HOME_5_1 HOME_6_1  \\\n",
       "0              010        X        B     Zero     Zero     Zero     Zero   \n",
       "1             Zero        5       14     Zero     Zero     Zero     Zero   \n",
       "\n",
       "  HOME_7_1 HOME_8_1 HOME_9_1  period  \n",
       "0     Zero     Zero     Zero       1  \n",
       "1     Zero     Zero     Zero       1  "
      ]
     },
     "execution_count": 7,
     "metadata": {},
     "output_type": "execute_result"
    }
   ],
   "source": [
    "home_period_1.head(2)\n",
    "#away_period_1.head(2)\n",
    "#home_period_2.head(2)\n",
    "#away_period_2.head(2)"
   ]
  },
  {
   "cell_type": "code",
   "execution_count": 10,
   "metadata": {
    "ExecuteTime": {
     "end_time": "2020-12-23T22:07:08.948668Z",
     "start_time": "2020-12-23T22:07:08.941941Z"
    }
   },
   "outputs": [],
   "source": [
    "def clean_penalty_dfs(df):\n",
    "    \n",
    "    df.columns = [\"skater_number\",\n",
    "                        \"column_1\",\n",
    "                        \"column_2\",\n",
    "                        \"column_3\",\n",
    "                        \"column_4\",\n",
    "                        \"column_5\",\n",
    "                        \"column_6\",\n",
    "                        \"column_7\",\n",
    "                        \"column_8\",\n",
    "                        \"column_9\",\n",
    "                        \"period\"]  \n",
    "    \n",
    "    for index, row in df.iterrows():\n",
    "        if row.skater_number != \"Zero\":\n",
    "            number = row.skater_number\n",
    "        else:\n",
    "            df.iloc[index, 0] = number\n",
    "\n",
    "    df = df.set_index(df.skater_number, drop=True)\n",
    "    df = df.drop(columns=\"skater_number\")\n",
    "    \n",
    "    series_func = df.column_1.\\\n",
    "                    append(df.column_2).\\\n",
    "                    append(df.column_3).\\\n",
    "                    append(df.column_4).\\\n",
    "                    append(df.column_5).\\\n",
    "                    append(df.column_6).\\\n",
    "                    append(df.column_7).\\\n",
    "                    append(df.column_8).\\\n",
    "                    append(df.column_9)\n",
    "    \n",
    "    df = pd.DataFrame({\"jam_number\": series_func, \n",
    "                        \"penalty_code\": series_func,\n",
    "                        \"period\": df[\"period\"][0]})\n",
    "\n",
    "    df = df.drop(\"Non-Skater Expulsions\").reset_index()\n",
    "    for index, row in df.iterrows(): \n",
    "        if isinstance(row.jam_number, str):\n",
    "            df.iloc[index, 1] = None       \n",
    "\n",
    "    for index, row in df.iterrows():\n",
    "        if isinstance(row.penalty_code, str):\n",
    "            code = row.penalty_code\n",
    "        else: \n",
    "            df.iloc[index, 2] = code  \n",
    "            \n",
    "    df = df.dropna().reset_index(drop=True)\n",
    "    return df"
   ]
  },
  {
   "cell_type": "code",
   "execution_count": 11,
   "metadata": {
    "ExecuteTime": {
     "end_time": "2020-12-23T22:07:10.304476Z",
     "start_time": "2020-12-23T22:07:10.157778Z"
    }
   },
   "outputs": [
    {
     "data": {
      "text/html": [
       "<div>\n",
       "<style scoped>\n",
       "    .dataframe tbody tr th:only-of-type {\n",
       "        vertical-align: middle;\n",
       "    }\n",
       "\n",
       "    .dataframe tbody tr th {\n",
       "        vertical-align: top;\n",
       "    }\n",
       "\n",
       "    .dataframe thead th {\n",
       "        text-align: right;\n",
       "    }\n",
       "</style>\n",
       "<table border=\"1\" class=\"dataframe\">\n",
       "  <thead>\n",
       "    <tr style=\"text-align: right;\">\n",
       "      <th></th>\n",
       "      <th>skater_number</th>\n",
       "      <th>jam_number</th>\n",
       "      <th>penalty_code</th>\n",
       "      <th>period</th>\n",
       "    </tr>\n",
       "  </thead>\n",
       "  <tbody>\n",
       "    <tr>\n",
       "      <th>0</th>\n",
       "      <td>010</td>\n",
       "      <td>5</td>\n",
       "      <td>X</td>\n",
       "      <td>1</td>\n",
       "    </tr>\n",
       "    <tr>\n",
       "      <th>1</th>\n",
       "      <td>1680</td>\n",
       "      <td>22</td>\n",
       "      <td>P</td>\n",
       "      <td>1</td>\n",
       "    </tr>\n",
       "    <tr>\n",
       "      <th>2</th>\n",
       "      <td>17</td>\n",
       "      <td>3</td>\n",
       "      <td>P</td>\n",
       "      <td>1</td>\n",
       "    </tr>\n",
       "    <tr>\n",
       "      <th>3</th>\n",
       "      <td>1706</td>\n",
       "      <td>9</td>\n",
       "      <td>C</td>\n",
       "      <td>1</td>\n",
       "    </tr>\n",
       "    <tr>\n",
       "      <th>4</th>\n",
       "      <td>1978</td>\n",
       "      <td>20</td>\n",
       "      <td>C</td>\n",
       "      <td>1</td>\n",
       "    </tr>\n",
       "    <tr>\n",
       "      <th>5</th>\n",
       "      <td>213</td>\n",
       "      <td>5</td>\n",
       "      <td>C</td>\n",
       "      <td>1</td>\n",
       "    </tr>\n",
       "    <tr>\n",
       "      <th>6</th>\n",
       "      <td>23</td>\n",
       "      <td>3</td>\n",
       "      <td>P</td>\n",
       "      <td>1</td>\n",
       "    </tr>\n",
       "    <tr>\n",
       "      <th>7</th>\n",
       "      <td>4</td>\n",
       "      <td>14</td>\n",
       "      <td>D</td>\n",
       "      <td>1</td>\n",
       "    </tr>\n",
       "    <tr>\n",
       "      <th>8</th>\n",
       "      <td>41</td>\n",
       "      <td>6</td>\n",
       "      <td>P</td>\n",
       "      <td>1</td>\n",
       "    </tr>\n",
       "    <tr>\n",
       "      <th>9</th>\n",
       "      <td>68</td>\n",
       "      <td>5</td>\n",
       "      <td>D</td>\n",
       "      <td>1</td>\n",
       "    </tr>\n",
       "    <tr>\n",
       "      <th>10</th>\n",
       "      <td>010</td>\n",
       "      <td>14</td>\n",
       "      <td>B</td>\n",
       "      <td>1</td>\n",
       "    </tr>\n",
       "    <tr>\n",
       "      <th>11</th>\n",
       "      <td>1706</td>\n",
       "      <td>9</td>\n",
       "      <td>X</td>\n",
       "      <td>1</td>\n",
       "    </tr>\n",
       "    <tr>\n",
       "      <th>12</th>\n",
       "      <td>213</td>\n",
       "      <td>11</td>\n",
       "      <td>M</td>\n",
       "      <td>1</td>\n",
       "    </tr>\n",
       "  </tbody>\n",
       "</table>\n",
       "</div>"
      ],
      "text/plain": [
       "   skater_number jam_number penalty_code  period\n",
       "0            010          5            X       1\n",
       "1           1680         22            P       1\n",
       "2             17          3            P       1\n",
       "3           1706          9            C       1\n",
       "4           1978         20            C       1\n",
       "5            213          5            C       1\n",
       "6             23          3            P       1\n",
       "7              4         14            D       1\n",
       "8             41          6            P       1\n",
       "9             68          5            D       1\n",
       "10           010         14            B       1\n",
       "11          1706          9            X       1\n",
       "12           213         11            M       1"
      ]
     },
     "execution_count": 11,
     "metadata": {},
     "output_type": "execute_result"
    }
   ],
   "source": [
    "clean_penalty_dfs(home_period_1)"
   ]
  }
 ],
 "metadata": {
  "kernelspec": {
   "display_name": "Python 3",
   "language": "python",
   "name": "python3"
  },
  "language_info": {
   "codemirror_mode": {
    "name": "ipython",
    "version": 3
   },
   "file_extension": ".py",
   "mimetype": "text/x-python",
   "name": "python",
   "nbconvert_exporter": "python",
   "pygments_lexer": "ipython3",
   "version": "3.8.5"
  },
  "toc": {
   "base_numbering": 1,
   "nav_menu": {},
   "number_sections": true,
   "sideBar": true,
   "skip_h1_title": false,
   "title_cell": "Table of Contents",
   "title_sidebar": "Contents",
   "toc_cell": false,
   "toc_position": {},
   "toc_section_display": true,
   "toc_window_display": false
  },
  "varInspector": {
   "cols": {
    "lenName": 16,
    "lenType": 16,
    "lenVar": 40
   },
   "kernels_config": {
    "python": {
     "delete_cmd_postfix": "",
     "delete_cmd_prefix": "del ",
     "library": "var_list.py",
     "varRefreshCmd": "print(var_dic_list())"
    },
    "r": {
     "delete_cmd_postfix": ") ",
     "delete_cmd_prefix": "rm(",
     "library": "var_list.r",
     "varRefreshCmd": "cat(var_dic_list()) "
    }
   },
   "types_to_exclude": [
    "module",
    "function",
    "builtin_function_or_method",
    "instance",
    "_Feature"
   ],
   "window_display": false
  }
 },
 "nbformat": 4,
 "nbformat_minor": 4
}
